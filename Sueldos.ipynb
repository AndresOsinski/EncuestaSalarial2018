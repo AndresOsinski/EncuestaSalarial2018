{
 "cells": [
  {
   "cell_type": "markdown",
   "metadata": {},
   "source": [
    "Analisis de Brecha Salaria por Género en la Industria de Software Argentina 2018\n",
    "================================================================================"
   ]
  },
  {
   "cell_type": "markdown",
   "metadata": {},
   "source": [
    "En este notebook vamos a analizar los resultados de las encuestas de sueldos de SysArmy para observar las diferencias, particularmente en materia de sueldos, entre hombres y muers"
   ]
  },
  {
   "cell_type": "code",
   "execution_count": 232,
   "metadata": {},
   "outputs": [],
   "source": [
    "import pandas\n",
    "from scipy import stats\n",
    "import matplotlib.pyplot as plt\n",
    "import seaborn\n",
    "seaborn.set(color_codes=True)\n",
    "import matplotlib\n",
    "matplotlib.rcParams['figure.figsize'] = (15,10)"
   ]
  },
  {
   "cell_type": "code",
   "execution_count": 233,
   "metadata": {},
   "outputs": [],
   "source": [
    "datafile = open('clean.csv')\n",
    "data = pandas.read_csv(datafile)"
   ]
  },
  {
   "cell_type": "markdown",
   "metadata": {},
   "source": [
    "Podemos ver que los datos han sido limpiados y reflejan datos en relacion a la experiencia, edad, sexo, y sueldo de los participantes de las encuestas. Gracias a @seppo por proveer un script de cleanup de datos que facilitó este analisis. Sepan que la limpieza de datos es muchas veces el trabajo más tedioso del proceso."
   ]
  },
  {
   "cell_type": "code",
   "execution_count": 166,
   "metadata": {},
   "outputs": [
    {
     "data": {
      "text/html": [
       "<div>\n",
       "<style scoped>\n",
       "    .dataframe tbody tr th:only-of-type {\n",
       "        vertical-align: middle;\n",
       "    }\n",
       "\n",
       "    .dataframe tbody tr th {\n",
       "        vertical-align: top;\n",
       "    }\n",
       "\n",
       "    .dataframe thead th {\n",
       "        text-align: right;\n",
       "    }\n",
       "</style>\n",
       "<table border=\"1\" class=\"dataframe\">\n",
       "  <thead>\n",
       "    <tr style=\"text-align: right;\">\n",
       "      <th></th>\n",
       "      <th>sex</th>\n",
       "      <th>age</th>\n",
       "      <th>experience</th>\n",
       "      <th>managing</th>\n",
       "      <th>degree</th>\n",
       "      <th>web</th>\n",
       "      <th>back</th>\n",
       "      <th>web_mobile</th>\n",
       "      <th>ios</th>\n",
       "      <th>android</th>\n",
       "      <th>human</th>\n",
       "      <th>salary</th>\n",
       "    </tr>\n",
       "  </thead>\n",
       "  <tbody>\n",
       "    <tr>\n",
       "      <th>0</th>\n",
       "      <td>0.0</td>\n",
       "      <td>35.5</td>\n",
       "      <td>3.0</td>\n",
       "      <td>0.0</td>\n",
       "      <td>3.5</td>\n",
       "      <td>0.0</td>\n",
       "      <td>1.0</td>\n",
       "      <td>0.0</td>\n",
       "      <td>0.0</td>\n",
       "      <td>0.0</td>\n",
       "      <td>1</td>\n",
       "      <td>20770.0</td>\n",
       "    </tr>\n",
       "    <tr>\n",
       "      <th>1</th>\n",
       "      <td>0.0</td>\n",
       "      <td>32.0</td>\n",
       "      <td>6.0</td>\n",
       "      <td>0.0</td>\n",
       "      <td>2.5</td>\n",
       "      <td>0.0</td>\n",
       "      <td>1.0</td>\n",
       "      <td>0.0</td>\n",
       "      <td>0.0</td>\n",
       "      <td>0.0</td>\n",
       "      <td>1</td>\n",
       "      <td>17220.0</td>\n",
       "    </tr>\n",
       "    <tr>\n",
       "      <th>2</th>\n",
       "      <td>0.0</td>\n",
       "      <td>28.5</td>\n",
       "      <td>3.0</td>\n",
       "      <td>0.0</td>\n",
       "      <td>4.0</td>\n",
       "      <td>0.0</td>\n",
       "      <td>1.0</td>\n",
       "      <td>0.0</td>\n",
       "      <td>0.0</td>\n",
       "      <td>0.0</td>\n",
       "      <td>1</td>\n",
       "      <td>18000.0</td>\n",
       "    </tr>\n",
       "    <tr>\n",
       "      <th>3</th>\n",
       "      <td>0.0</td>\n",
       "      <td>19.0</td>\n",
       "      <td>0.0</td>\n",
       "      <td>0.0</td>\n",
       "      <td>3.5</td>\n",
       "      <td>0.0</td>\n",
       "      <td>1.0</td>\n",
       "      <td>0.0</td>\n",
       "      <td>0.0</td>\n",
       "      <td>0.0</td>\n",
       "      <td>1</td>\n",
       "      <td>15000.0</td>\n",
       "    </tr>\n",
       "    <tr>\n",
       "      <th>4</th>\n",
       "      <td>0.0</td>\n",
       "      <td>25.0</td>\n",
       "      <td>4.0</td>\n",
       "      <td>0.0</td>\n",
       "      <td>4.0</td>\n",
       "      <td>0.0</td>\n",
       "      <td>1.0</td>\n",
       "      <td>0.0</td>\n",
       "      <td>0.0</td>\n",
       "      <td>0.0</td>\n",
       "      <td>1</td>\n",
       "      <td>24000.0</td>\n",
       "    </tr>\n",
       "  </tbody>\n",
       "</table>\n",
       "</div>"
      ],
      "text/plain": [
       "   sex   age  experience  managing  degree  web  back  web_mobile  ios  \\\n",
       "0  0.0  35.5         3.0       0.0     3.5  0.0   1.0         0.0  0.0   \n",
       "1  0.0  32.0         6.0       0.0     2.5  0.0   1.0         0.0  0.0   \n",
       "2  0.0  28.5         3.0       0.0     4.0  0.0   1.0         0.0  0.0   \n",
       "3  0.0  19.0         0.0       0.0     3.5  0.0   1.0         0.0  0.0   \n",
       "4  0.0  25.0         4.0       0.0     4.0  0.0   1.0         0.0  0.0   \n",
       "\n",
       "   android  human   salary  \n",
       "0      0.0      1  20770.0  \n",
       "1      0.0      1  17220.0  \n",
       "2      0.0      1  18000.0  \n",
       "3      0.0      1  15000.0  \n",
       "4      0.0      1  24000.0  "
      ]
     },
     "execution_count": 166,
     "metadata": {},
     "output_type": "execute_result"
    }
   ],
   "source": [
    "data.head()"
   ]
  },
  {
   "cell_type": "code",
   "execution_count": 5,
   "metadata": {},
   "outputs": [],
   "source": [
    "women = data[data.sex==1]"
   ]
  },
  {
   "cell_type": "code",
   "execution_count": 24,
   "metadata": {},
   "outputs": [
    {
     "data": {
      "text/html": [
       "<div>\n",
       "<style scoped>\n",
       "    .dataframe tbody tr th:only-of-type {\n",
       "        vertical-align: middle;\n",
       "    }\n",
       "\n",
       "    .dataframe tbody tr th {\n",
       "        vertical-align: top;\n",
       "    }\n",
       "\n",
       "    .dataframe thead th {\n",
       "        text-align: right;\n",
       "    }\n",
       "</style>\n",
       "<table border=\"1\" class=\"dataframe\">\n",
       "  <thead>\n",
       "    <tr style=\"text-align: right;\">\n",
       "      <th></th>\n",
       "      <th>age</th>\n",
       "      <th>salary</th>\n",
       "    </tr>\n",
       "  </thead>\n",
       "  <tbody>\n",
       "    <tr>\n",
       "      <th>count</th>\n",
       "      <td>85.000000</td>\n",
       "      <td>85.000000</td>\n",
       "    </tr>\n",
       "    <tr>\n",
       "      <th>mean</th>\n",
       "      <td>29.670588</td>\n",
       "      <td>34905.505882</td>\n",
       "    </tr>\n",
       "    <tr>\n",
       "      <th>std</th>\n",
       "      <td>5.211910</td>\n",
       "      <td>17158.235245</td>\n",
       "    </tr>\n",
       "    <tr>\n",
       "      <th>min</th>\n",
       "      <td>22.000000</td>\n",
       "      <td>8000.000000</td>\n",
       "    </tr>\n",
       "    <tr>\n",
       "      <th>25%</th>\n",
       "      <td>25.000000</td>\n",
       "      <td>22400.000000</td>\n",
       "    </tr>\n",
       "    <tr>\n",
       "      <th>50%</th>\n",
       "      <td>28.500000</td>\n",
       "      <td>30800.000000</td>\n",
       "    </tr>\n",
       "    <tr>\n",
       "      <th>75%</th>\n",
       "      <td>32.000000</td>\n",
       "      <td>44000.000000</td>\n",
       "    </tr>\n",
       "    <tr>\n",
       "      <th>max</th>\n",
       "      <td>47.500000</td>\n",
       "      <td>109000.000000</td>\n",
       "    </tr>\n",
       "  </tbody>\n",
       "</table>\n",
       "</div>"
      ],
      "text/plain": [
       "             age         salary\n",
       "count  85.000000      85.000000\n",
       "mean   29.670588   34905.505882\n",
       "std     5.211910   17158.235245\n",
       "min    22.000000    8000.000000\n",
       "25%    25.000000   22400.000000\n",
       "50%    28.500000   30800.000000\n",
       "75%    32.000000   44000.000000\n",
       "max    47.500000  109000.000000"
      ]
     },
     "execution_count": 24,
     "metadata": {},
     "output_type": "execute_result"
    }
   ],
   "source": [
    "women[['age', 'salary']].describe()"
   ]
  },
  {
   "cell_type": "code",
   "execution_count": 26,
   "metadata": {},
   "outputs": [
    {
     "data": {
      "text/html": [
       "<div>\n",
       "<style scoped>\n",
       "    .dataframe tbody tr th:only-of-type {\n",
       "        vertical-align: middle;\n",
       "    }\n",
       "\n",
       "    .dataframe tbody tr th {\n",
       "        vertical-align: top;\n",
       "    }\n",
       "\n",
       "    .dataframe thead th {\n",
       "        text-align: right;\n",
       "    }\n",
       "</style>\n",
       "<table border=\"1\" class=\"dataframe\">\n",
       "  <thead>\n",
       "    <tr style=\"text-align: right;\">\n",
       "      <th></th>\n",
       "      <th>age</th>\n",
       "      <th>salary</th>\n",
       "    </tr>\n",
       "  </thead>\n",
       "  <tbody>\n",
       "    <tr>\n",
       "      <th>count</th>\n",
       "      <td>616.000000</td>\n",
       "      <td>616.000000</td>\n",
       "    </tr>\n",
       "    <tr>\n",
       "      <th>mean</th>\n",
       "      <td>31.271916</td>\n",
       "      <td>46922.820455</td>\n",
       "    </tr>\n",
       "    <tr>\n",
       "      <th>std</th>\n",
       "      <td>6.757796</td>\n",
       "      <td>26718.924821</td>\n",
       "    </tr>\n",
       "    <tr>\n",
       "      <th>min</th>\n",
       "      <td>19.000000</td>\n",
       "      <td>7500.000000</td>\n",
       "    </tr>\n",
       "    <tr>\n",
       "      <th>25%</th>\n",
       "      <td>25.000000</td>\n",
       "      <td>30000.000000</td>\n",
       "    </tr>\n",
       "    <tr>\n",
       "      <th>50%</th>\n",
       "      <td>32.000000</td>\n",
       "      <td>42000.000000</td>\n",
       "    </tr>\n",
       "    <tr>\n",
       "      <th>75%</th>\n",
       "      <td>35.500000</td>\n",
       "      <td>56000.000000</td>\n",
       "    </tr>\n",
       "    <tr>\n",
       "      <th>max</th>\n",
       "      <td>65.000000</td>\n",
       "      <td>193000.000000</td>\n",
       "    </tr>\n",
       "  </tbody>\n",
       "</table>\n",
       "</div>"
      ],
      "text/plain": [
       "              age         salary\n",
       "count  616.000000     616.000000\n",
       "mean    31.271916   46922.820455\n",
       "std      6.757796   26718.924821\n",
       "min     19.000000    7500.000000\n",
       "25%     25.000000   30000.000000\n",
       "50%     32.000000   42000.000000\n",
       "75%     35.500000   56000.000000\n",
       "max     65.000000  193000.000000"
      ]
     },
     "execution_count": 26,
     "metadata": {},
     "output_type": "execute_result"
    }
   ],
   "source": [
    "men = data[data.sex == 0]\n",
    "men[['age', 'salary']].describe()"
   ]
  },
  {
   "cell_type": "markdown",
   "metadata": {},
   "source": [
    "Podemos ver que la edad media del programador hombre es de 2 años más, con un rango de edad más amplio.\n",
    "\n",
    "También podemos ver que la media de sueldo de las mujeres es \\$34905, mientras que la de los hombres es de \\$46922. Una diferencia muy sustancial."
   ]
  },
  {
   "cell_type": "code",
   "execution_count": 172,
   "metadata": {},
   "outputs": [
    {
     "data": {
      "image/png": "[encoded data removed]",
      "text/plain": [
       "<Figure size 432x288 with 2 Axes>"
      ]
     },
     "metadata": {},
     "output_type": "display_data"
    }
   ],
   "source": [
    "# Let's plot the age distribution of men and women and approximate the distribution assuming a gaussian kernel\n",
    "\n",
    "bins = range(15,70, 3)\n",
    "\n",
    "sorted_women = sorted(women['age'])\n",
    "\n",
    "w_kernel = stats.gaussian_kde(sorted_women)\n",
    "\n",
    "plt.subplot(2, 1, 1)\n",
    "plt.title(\"Edades de mujeres vs hombres\")\n",
    "plt.hist(women['age'], bins=bins, color='orange', density=True)\n",
    "plt.xticks(bins)\n",
    "plt.legend(\"Women\")\n",
    "plt.plot(sorted_women, w_kernel(sorted_women))\n",
    "\n",
    "sorted_men = sorted(men['age'])\n",
    "\n",
    "m_kernel = stats.gaussian_kde(sorted_men)\n",
    "plt.subplot(2, 1, 2)\n",
    "plt.hist(men['age'], bins=bins, density=True)\n",
    "plt.xticks(bins)\n",
    "plt.legend(\"Men\")\n",
    "plt.plot(sorted_men, m_kernel(sorted_men))\n",
    "plt.show()"
   ]
  },
  {
   "cell_type": "code",
   "execution_count": 173,
   "metadata": {},
   "outputs": [
    {
     "data": {
      "image/png": "[encoded data removed]",
      "text/plain": [
       "<Figure size 432x288 with 2 Axes>"
      ]
     },
     "metadata": {},
     "output_type": "display_data"
    }
   ],
   "source": [
    "bins = range(5000, 200000, 10000)\n",
    "\n",
    "m_salaries = men['salary']\n",
    "w_salaries = women['salary']\n",
    "\n",
    "sorted_women = sorted(w_salaries)\n",
    "sorted_men = sorted(m_salaries)\n",
    "\n",
    "m_kernel = stats.gaussian_kde(m_salaries)\n",
    "w_kernel = stats.gaussian_kde(w_salaries)\n",
    "\n",
    "plt.subplot(2, 1, 1)\n",
    "plt.title(\"Distribución de sueldos\")\n",
    "plt.xticks(range(5000, 200000, 20000))\n",
    "plt.hist(w_salaries, bins=bins, density=True)\n",
    "plt.plot(sorted_women, w_kernel(sorted_women))\n",
    "\n",
    "plt.subplot(2, 1, 2)\n",
    "plt.xticks(range(5000, 200000, 20000))\n",
    "plt.hist(m_salaries, bins=bins, density=True)\n",
    "plt.plot(sorted_men, m_kernel(sorted_men))\n",
    "\n",
    "plt.show()\n"
   ]
  },
  {
   "cell_type": "markdown",
   "metadata": {},
   "source": [
    "El ultimo analisis es interesante. No solo el sueldo promedio de los hombres es considerablemente más alto, sino que el sueldo máximo es muchisimo más alto."
   ]
  },
  {
   "cell_type": "markdown",
   "metadata": {},
   "source": [
    "Ahora, si miramos cómo está realizada la encuesta, pueden ver que la misma generaliza la experiencia de quienes tienen más de 10 años de experiencia a un solo número, lo que también genera el bache extraño en la distribución de edades del histograma más arriba.\n",
    "\n",
    "Qué pasa si trabajamos solo con personas con 9 años de experiencia o menos, donde la encuesta hila más finamente?\n",
    "\n",
    "Vemos también que hay una minoria no trivial de hombres que reportan tener un sueldo por encima de los $70K. Hipótesis: esas personas trabajan para el mercado en el exterior. Qué pasa si los quitamos como outliers?"
   ]
  },
  {
   "cell_type": "code",
   "execution_count": 240,
   "metadata": {},
   "outputs": [
    {
     "data": {
      "image/png": "[encoded data removed]",
      "text/plain": [
       "<Figure size 1080x720 with 2 Axes>"
      ]
     },
     "metadata": {},
     "output_type": "display_data"
    }
   ],
   "source": [
    "w_unexp = women[(women.experience < 10) & (women.salary<70000)]['salary']\n",
    "m_unexp = men[(men.experience < 10) & (men.salary<70000)]['salary']\n",
    "\n",
    "sorted_women = sorted(w_unexp)\n",
    "sorted_men = sorted(m_unexp)\n",
    "\n",
    "m_kernel = stats.gaussian_kde(sorted_women)\n",
    "w_kernel = stats.gaussian_kde(sorted_men)\n",
    "\n",
    "plt.subplot(2, 1, 1)\n",
    "plt.title(\"Distribución de sueldos con menos experiencia\")\n",
    "plt.xticks(range(5000, 75000, 5000))\n",
    "plt.hist(w_unexp, bins=range(5000, 75000, 5000), density=True)\n",
    "plt.plot(sorted_women, w_kernel(sorted_women))\n",
    "\n",
    "plt.subplot(2, 1, 2)\n",
    "plt.xticks(range(5000, 75000, 5000))\n",
    "plt.hist(m_unexp, bins=range(5000, 75000, 5000), density=True)\n",
    "plt.plot(sorted_men, w_kernel(sorted_men))\n",
    "\n",
    "plt.show()\n"
   ]
  },
  {
   "cell_type": "code",
   "execution_count": 243,
   "metadata": {},
   "outputs": [
    {
     "name": "stdout",
     "output_type": "stream",
     "text": [
      "Resumen de mujeres con menos de 10 años exp\n"
     ]
    },
    {
     "data": {
      "text/plain": [
       "count       65.000000\n",
       "mean     30077.969231\n",
       "std      10816.897165\n",
       "min      13000.000000\n",
       "25%      21350.000000\n",
       "50%      29000.000000\n",
       "75%      35000.000000\n",
       "max      58000.000000\n",
       "Name: salary, dtype: float64"
      ]
     },
     "execution_count": 243,
     "metadata": {},
     "output_type": "execute_result"
    }
   ],
   "source": [
    "print(\"Resumen de mujeres con menos de 10 años exp\")\n",
    "w_unexp.describe()"
   ]
  },
  {
   "cell_type": "code",
   "execution_count": 244,
   "metadata": {},
   "outputs": [
    {
     "name": "stdout",
     "output_type": "stream",
     "text": [
      "Resumen de hombres con menos de 10 años exp\n"
     ]
    },
    {
     "data": {
      "text/plain": [
       "count      374.000000\n",
       "mean     35062.027807\n",
       "std      13777.766737\n",
       "min       7500.000000\n",
       "25%      25000.000000\n",
       "50%      34300.000000\n",
       "75%      45000.000000\n",
       "max      68000.000000\n",
       "Name: salary, dtype: float64"
      ]
     },
     "execution_count": 244,
     "metadata": {},
     "output_type": "execute_result"
    }
   ],
   "source": [
    "print(\"Resumen de hombres con menos de 10 años exp\")\n",
    "m_unexp.describe()"
   ]
  },
  {
   "cell_type": "markdown",
   "metadata": {},
   "source": [
    "Quitando los outliers de gente con mucho seniority y sueldo, la brecha que tenemos es de \\$5000. También vemos que hay una proporción mayor de hombres que trabajan por sueldos muy bajos que mujeres, pero no es compensada por una enorme masa de hombres que ganan más de $40K.\n",
    "\n",
    "Qué pasa si quitamos la gente que tiene experiencia gerencial? En general al ser gerente eso implica un salto de sueldo y experiencia"
   ]
  },
  {
   "cell_type": "code",
   "execution_count": 245,
   "metadata": {},
   "outputs": [
    {
     "name": "stdout",
     "output_type": "stream",
     "text": [
      "Resumen de hombres, no gerentes, con menos de 10 años exp\n"
     ]
    },
    {
     "data": {
      "text/plain": [
       "count      335.000000\n",
       "mean     34260.753433\n",
       "std      13512.651811\n",
       "min       7500.000000\n",
       "25%      24000.000000\n",
       "50%      33600.000000\n",
       "75%      45000.000000\n",
       "max      66000.000000\n",
       "Name: salary, dtype: float64"
      ]
     },
     "execution_count": 245,
     "metadata": {},
     "output_type": "execute_result"
    }
   ],
   "source": [
    "m_nonmanagers= men[(men.experience < 10) & (men.salary<70000) & (men.managing==0)]\n",
    "m_nonmanagers_salary = m_nonmanagers['salary']\n",
    "\n",
    "print(\"Resumen de hombres, no gerentes, con menos de 10 años exp\")\n",
    "m_nonmanagers_salary.describe()"
   ]
  },
  {
   "cell_type": "code",
   "execution_count": 246,
   "metadata": {},
   "outputs": [
    {
     "name": "stdout",
     "output_type": "stream",
     "text": [
      "Resumen de mujeres, no gerentes, con menos de 10 años exp\n"
     ]
    },
    {
     "data": {
      "text/plain": [
       "count       57.000000\n",
       "mean     28552.070175\n",
       "std       9603.823195\n",
       "min      15000.000000\n",
       "25%      21000.000000\n",
       "50%      28000.000000\n",
       "75%      33000.000000\n",
       "max      58000.000000\n",
       "Name: salary, dtype: float64"
      ]
     },
     "execution_count": 246,
     "metadata": {},
     "output_type": "execute_result"
    }
   ],
   "source": [
    "w_nonmanagers = women[(women.experience < 10) & (women.salary<70000) & (women.managing==0)]\n",
    "w_nonmanagers_salary = w_nonmanagers['salary']\n",
    "\n",
    "print(\"Resumen de mujeres, no gerentes, con menos de 10 años exp\")\n",
    "w_nonmanagers_salary.describe()"
   ]
  },
  {
   "cell_type": "markdown",
   "metadata": {},
   "source": [
    "Podemos ver que el sueldo promedio de hombres que incluye managers es de \\$34K vs \\$35K para el promedio que incluye managers.\n",
    "\n",
    "Para las mujeres, la diferencia es de: \\$30K vs \\$28K.\n",
    "\n",
    "Cómo está distribuida la experiencia laboral entre este grupo de asalariados?"
   ]
  },
  {
   "cell_type": "code",
   "execution_count": 249,
   "metadata": {},
   "outputs": [
    {
     "data": {
      "image/png": "[encoded data removed]",
      "text/plain": [
       "<Figure size 1080x720 with 2 Axes>"
      ]
     },
     "metadata": {},
     "output_type": "display_data"
    }
   ],
   "source": [
    "w_nonmanagers_exp = w_nonmanagers['experience']\n",
    "m_nonmanagers_exp = m_nonmanagers['experience']\n",
    "\n",
    "plt.title(\"Experiencia de programadores\")\n",
    "\n",
    "sorted_women = sorted(w_nonmanagers_exp)\n",
    "sorted_men = sorted(m_nonmanagers_exp)\n",
    "\n",
    "m_kernel = stats.gaussian_kde(m_nonmanagers_exp)\n",
    "w_kernel = stats.gaussian_kde(w_nonmanagers_exp)\n",
    "\n",
    "plt.subplot(211)\n",
    "plt.hist(w_nonmanagers_exp, bins=range(0, 11),  density=True, color='orange')\n",
    "plt.plot(sorted_women, w_kernel(sorted_women), color='black')\n",
    "\n",
    "plt.subplot(212)\n",
    "\n",
    "plt.hist(m_nonmanagers_exp, bins=range(0, 11), density=True, color='blue')\n",
    "plt.plot(sorted_men, m_kernel(sorted_men), color='red')\n",
    "\n",
    "\n",
    "plt.show()"
   ]
  },
  {
   "cell_type": "code",
   "execution_count": 250,
   "metadata": {},
   "outputs": [
    {
     "name": "stdout",
     "output_type": "stream",
     "text": [
      "Experiencia mujeres en años:\n",
      "\n",
      "count    57.000000\n",
      "mean      3.596491\n",
      "std       2.658273\n",
      "min       0.000000\n",
      "25%       1.000000\n",
      "50%       3.000000\n",
      "75%       5.000000\n",
      "max       9.000000\n",
      "Name: experience, dtype: float64\n",
      "\n",
      "------------------------\n",
      "\n",
      "Experiencia hombres en años:\n",
      "\n",
      "count    335.000000\n",
      "mean       4.167164\n",
      "std        2.529253\n",
      "min        0.000000\n",
      "25%        2.000000\n",
      "50%        4.000000\n",
      "75%        6.000000\n",
      "max        9.000000\n",
      "Name: experience, dtype: float64\n"
     ]
    }
   ],
   "source": [
    "print(\"Experiencia mujeres en años:\\n\")\n",
    "print(w_nonmanagers_exp.describe())\n",
    "print('\\n------------------------\\n')\n",
    "print(\"Experiencia hombres en años:\\n\")\n",
    "print(m_nonmanagers_exp.describe())"
   ]
  },
  {
   "cell_type": "markdown",
   "metadata": {},
   "source": [
    "Podemos ver que la media de experiencia de los hombres es de unos meses más."
   ]
  },
  {
   "cell_type": "code",
   "execution_count": 117,
   "metadata": {},
   "outputs": [],
   "source": [
    "wnn_by_age = w_nonmanagers.groupby('age')\n",
    "mnn_by_age = m_nonmanagers.groupby('age')"
   ]
  },
  {
   "cell_type": "code",
   "execution_count": 122,
   "metadata": {},
   "outputs": [
    {
     "name": "stdout",
     "output_type": "stream",
     "text": [
      "Experiencia promedio por edad mujeres:\n",
      "\n",
      "age\n",
      "22.0    1.000000\n",
      "25.0    2.923077\n",
      "28.5    4.000000\n",
      "32.0    3.333333\n",
      "35.5    6.750000\n",
      "38.5    7.666667\n",
      "Name: experience, dtype: float64\n",
      "\n",
      "---------------\n",
      "\n",
      "Experiencia promedio por edad hombres:\n",
      "\n",
      "age\n",
      "19.0    0.818182\n",
      "22.0    1.975610\n",
      "25.0    3.380435\n",
      "28.5    4.637255\n",
      "32.0    5.679245\n",
      "35.5    6.086957\n",
      "38.5    6.100000\n",
      "43.0    3.000000\n",
      "47.5    9.000000\n",
      "65.0    8.000000\n",
      "Name: experience, dtype: float64\n"
     ]
    }
   ],
   "source": [
    "print(\"Experiencia promedio por edad mujeres:\\n\")\n",
    "print(wnn_by_age['experience'].mean())\n",
    "print(\"\\n---------------\\n\")\n",
    "print(\"Experiencia promedio por edad hombres:\\n\")\n",
    "print(mnn_by_age['experience'].mean())"
   ]
  },
  {
   "cell_type": "markdown",
   "metadata": {},
   "source": [
    "Aqui notamos algo muy interesante: no hay mujeres mayores con menos experiencia siendo representadas en este grupo, y hasta los 32 años, todos los cohortes de dedad másculinos tienen más experiencia dada la misma edad.\n"
   ]
  },
  {
   "cell_type": "markdown",
   "metadata": {},
   "source": [
    "Si queremos realmente entender la brecha salarial, tenemos que comparar los sueldos de hombre y mujeres bajo condición de\n",
    "igual trabajo. Sino, los resultados de la diferencia salarial podrian ser explicados por un mayor nivel de experiencia,\n",
    "mayor edad, una combinación de ambos, o algún otro factor externo. \n",
    "\n",
    "Vamos a plotear la relación de edad, experiencia, y sueldo."
   ]
  },
  {
   "cell_type": "code",
   "execution_count": 157,
   "metadata": {},
   "outputs": [],
   "source": [
    "wnn_by_age_exp = w_nonmanagers.groupby(['age', 'experience'])\n",
    "wnn_datapoints = wnn_by_age_exp['salary'].agg(['count', 'mean']).reset_index()"
   ]
  },
  {
   "cell_type": "code",
   "execution_count": 158,
   "metadata": {},
   "outputs": [],
   "source": [
    "mnn_by_age_exp = m_nonmanagers.groupby(['age', 'experience'])\n",
    "mnn_datapoints = mnn_by_age_exp['salary'].agg(['count', 'mean']).reset_index()"
   ]
  },
  {
   "cell_type": "code",
   "execution_count": 193,
   "metadata": {},
   "outputs": [
    {
     "data": {
      "text/html": [
       "<div>\n",
       "<style scoped>\n",
       "    .dataframe tbody tr th:only-of-type {\n",
       "        vertical-align: middle;\n",
       "    }\n",
       "\n",
       "    .dataframe tbody tr th {\n",
       "        vertical-align: top;\n",
       "    }\n",
       "\n",
       "    .dataframe thead th {\n",
       "        text-align: right;\n",
       "    }\n",
       "</style>\n",
       "<table border=\"1\" class=\"dataframe\">\n",
       "  <thead>\n",
       "    <tr style=\"text-align: right;\">\n",
       "      <th></th>\n",
       "      <th>age</th>\n",
       "      <th>experience</th>\n",
       "      <th>count</th>\n",
       "      <th>mean</th>\n",
       "    </tr>\n",
       "  </thead>\n",
       "  <tbody>\n",
       "    <tr>\n",
       "      <th>0</th>\n",
       "      <td>22.0</td>\n",
       "      <td>0.0</td>\n",
       "      <td>5</td>\n",
       "      <td>20280.0</td>\n",
       "    </tr>\n",
       "    <tr>\n",
       "      <th>1</th>\n",
       "      <td>22.0</td>\n",
       "      <td>1.0</td>\n",
       "      <td>1</td>\n",
       "      <td>18000.0</td>\n",
       "    </tr>\n",
       "    <tr>\n",
       "      <th>2</th>\n",
       "      <td>22.0</td>\n",
       "      <td>2.0</td>\n",
       "      <td>2</td>\n",
       "      <td>29500.0</td>\n",
       "    </tr>\n",
       "    <tr>\n",
       "      <th>3</th>\n",
       "      <td>22.0</td>\n",
       "      <td>4.0</td>\n",
       "      <td>1</td>\n",
       "      <td>27000.0</td>\n",
       "    </tr>\n",
       "    <tr>\n",
       "      <th>4</th>\n",
       "      <td>25.0</td>\n",
       "      <td>1.0</td>\n",
       "      <td>3</td>\n",
       "      <td>22250.0</td>\n",
       "    </tr>\n",
       "  </tbody>\n",
       "</table>\n",
       "</div>"
      ],
      "text/plain": [
       "    age  experience  count     mean\n",
       "0  22.0         0.0      5  20280.0\n",
       "1  22.0         1.0      1  18000.0\n",
       "2  22.0         2.0      2  29500.0\n",
       "3  22.0         4.0      1  27000.0\n",
       "4  25.0         1.0      3  22250.0"
      ]
     },
     "execution_count": 193,
     "metadata": {},
     "output_type": "execute_result"
    }
   ],
   "source": [
    "wnn_datapoints.head()"
   ]
  },
  {
   "cell_type": "code",
   "execution_count": 194,
   "metadata": {},
   "outputs": [
    {
     "data": {
      "text/html": [
       "<div>\n",
       "<style scoped>\n",
       "    .dataframe tbody tr th:only-of-type {\n",
       "        vertical-align: middle;\n",
       "    }\n",
       "\n",
       "    .dataframe tbody tr th {\n",
       "        vertical-align: top;\n",
       "    }\n",
       "\n",
       "    .dataframe thead th {\n",
       "        text-align: right;\n",
       "    }\n",
       "</style>\n",
       "<table border=\"1\" class=\"dataframe\">\n",
       "  <thead>\n",
       "    <tr style=\"text-align: right;\">\n",
       "      <th></th>\n",
       "      <th>age</th>\n",
       "      <th>experience</th>\n",
       "      <th>count</th>\n",
       "      <th>mean</th>\n",
       "    </tr>\n",
       "  </thead>\n",
       "  <tbody>\n",
       "    <tr>\n",
       "      <th>3</th>\n",
       "      <td>22.0</td>\n",
       "      <td>0.0</td>\n",
       "      <td>10</td>\n",
       "      <td>15376.000000</td>\n",
       "    </tr>\n",
       "    <tr>\n",
       "      <th>4</th>\n",
       "      <td>22.0</td>\n",
       "      <td>1.0</td>\n",
       "      <td>8</td>\n",
       "      <td>18247.500000</td>\n",
       "    </tr>\n",
       "    <tr>\n",
       "      <th>5</th>\n",
       "      <td>22.0</td>\n",
       "      <td>2.0</td>\n",
       "      <td>6</td>\n",
       "      <td>25008.333333</td>\n",
       "    </tr>\n",
       "    <tr>\n",
       "      <th>6</th>\n",
       "      <td>22.0</td>\n",
       "      <td>3.0</td>\n",
       "      <td>10</td>\n",
       "      <td>30150.000000</td>\n",
       "    </tr>\n",
       "    <tr>\n",
       "      <th>7</th>\n",
       "      <td>22.0</td>\n",
       "      <td>4.0</td>\n",
       "      <td>4</td>\n",
       "      <td>40750.000000</td>\n",
       "    </tr>\n",
       "  </tbody>\n",
       "</table>\n",
       "</div>"
      ],
      "text/plain": [
       "    age  experience  count          mean\n",
       "3  22.0         0.0     10  15376.000000\n",
       "4  22.0         1.0      8  18247.500000\n",
       "5  22.0         2.0      6  25008.333333\n",
       "6  22.0         3.0     10  30150.000000\n",
       "7  22.0         4.0      4  40750.000000"
      ]
     },
     "execution_count": 194,
     "metadata": {},
     "output_type": "execute_result"
    }
   ],
   "source": [
    "mnn_datapoints[(mnn_datapoints.age>= 22) & (mnn_datapoints.age<=38.5)].head()"
   ]
  },
  {
   "cell_type": "code",
   "execution_count": 217,
   "metadata": {},
   "outputs": [],
   "source": [
    "def plot_by_exp(low, high):\n",
    "    assert low >= 0 and high <= 10\n",
    "    from collections import defaultdict\n",
    "    exp_data = defaultdict(dict)\n",
    "\n",
    "    colors = ['white', 'light lime', 'bright aqua', 'golden', 'grassy green', 'turquoise blue',\n",
    "              'mustard brown', 'metallic blue', 'maroon', 'black']\n",
    "\n",
    "    for i in range(low, high):\n",
    "        exp_data[i]['men'] = wnn_datapoints[wnn_datapoints.experience == i]\n",
    "        exp_data[i]['women'] = wnn_datapoints[mnn_datapoints.experience == i]\n",
    "\n",
    "        plt.plot(exp_data[i]['men']['age'], exp_data[i]['men']['mean'], \n",
    "                 color='xkcd:' + colors[i], linestyle=':', label=\"Exp {}Y Men\".format(i))\n",
    "        plt.plot(exp_data[i]['women']['age'], exp_data[i]['women']['mean'], \n",
    "                 color='xkcd:' + colors[i], label=\"Exp {}Y Women\".format(i))\n",
    "\n",
    "    plt.legend()\n",
    "    plt.ylim(5000, 70000)\n",
    "    plt.show()\n",
    "    \n",
    "def get_table_for_exp(table, low, high):\n",
    "    return table[(table.experience >= low) & (table.experience < high)]\n",
    "\n"
   ]
  },
  {
   "cell_type": "code",
   "execution_count": 252,
   "metadata": {},
   "outputs": [
    {
     "name": "stdout",
     "output_type": "stream",
     "text": [
      "Datos Juniors mujeres\n"
     ]
    },
    {
     "data": {
      "text/html": [
       "<div>\n",
       "<style scoped>\n",
       "    .dataframe tbody tr th:only-of-type {\n",
       "        vertical-align: middle;\n",
       "    }\n",
       "\n",
       "    .dataframe tbody tr th {\n",
       "        vertical-align: top;\n",
       "    }\n",
       "\n",
       "    .dataframe thead th {\n",
       "        text-align: right;\n",
       "    }\n",
       "</style>\n",
       "<table border=\"1\" class=\"dataframe\">\n",
       "  <thead>\n",
       "    <tr style=\"text-align: right;\">\n",
       "      <th></th>\n",
       "      <th>age</th>\n",
       "      <th>experience</th>\n",
       "      <th>count</th>\n",
       "      <th>mean</th>\n",
       "    </tr>\n",
       "  </thead>\n",
       "  <tbody>\n",
       "    <tr>\n",
       "      <th>0</th>\n",
       "      <td>22.0</td>\n",
       "      <td>0.0</td>\n",
       "      <td>5</td>\n",
       "      <td>20280.00</td>\n",
       "    </tr>\n",
       "    <tr>\n",
       "      <th>1</th>\n",
       "      <td>22.0</td>\n",
       "      <td>1.0</td>\n",
       "      <td>1</td>\n",
       "      <td>18000.00</td>\n",
       "    </tr>\n",
       "    <tr>\n",
       "      <th>2</th>\n",
       "      <td>22.0</td>\n",
       "      <td>2.0</td>\n",
       "      <td>2</td>\n",
       "      <td>29500.00</td>\n",
       "    </tr>\n",
       "    <tr>\n",
       "      <th>4</th>\n",
       "      <td>25.0</td>\n",
       "      <td>1.0</td>\n",
       "      <td>3</td>\n",
       "      <td>22250.00</td>\n",
       "    </tr>\n",
       "    <tr>\n",
       "      <th>5</th>\n",
       "      <td>25.0</td>\n",
       "      <td>2.0</td>\n",
       "      <td>2</td>\n",
       "      <td>24700.00</td>\n",
       "    </tr>\n",
       "    <tr>\n",
       "      <th>10</th>\n",
       "      <td>28.5</td>\n",
       "      <td>0.0</td>\n",
       "      <td>4</td>\n",
       "      <td>22232.25</td>\n",
       "    </tr>\n",
       "    <tr>\n",
       "      <th>17</th>\n",
       "      <td>32.0</td>\n",
       "      <td>0.0</td>\n",
       "      <td>1</td>\n",
       "      <td>17000.00</td>\n",
       "    </tr>\n",
       "    <tr>\n",
       "      <th>18</th>\n",
       "      <td>32.0</td>\n",
       "      <td>1.0</td>\n",
       "      <td>1</td>\n",
       "      <td>15000.00</td>\n",
       "    </tr>\n",
       "  </tbody>\n",
       "</table>\n",
       "</div>"
      ],
      "text/plain": [
       "     age  experience  count      mean\n",
       "0   22.0         0.0      5  20280.00\n",
       "1   22.0         1.0      1  18000.00\n",
       "2   22.0         2.0      2  29500.00\n",
       "4   25.0         1.0      3  22250.00\n",
       "5   25.0         2.0      2  24700.00\n",
       "10  28.5         0.0      4  22232.25\n",
       "17  32.0         0.0      1  17000.00\n",
       "18  32.0         1.0      1  15000.00"
      ]
     },
     "execution_count": 252,
     "metadata": {},
     "output_type": "execute_result"
    }
   ],
   "source": [
    "print(\"Datos Juniors mujeres\")\n",
    "get_table_for_exp(wnn_datapoints, 0, 3)"
   ]
  },
  {
   "cell_type": "code",
   "execution_count": 253,
   "metadata": {},
   "outputs": [
    {
     "name": "stdout",
     "output_type": "stream",
     "text": [
      "Datos Juniors Hombre\n"
     ]
    },
    {
     "data": {
      "text/html": [
       "<div>\n",
       "<style scoped>\n",
       "    .dataframe tbody tr th:only-of-type {\n",
       "        vertical-align: middle;\n",
       "    }\n",
       "\n",
       "    .dataframe tbody tr th {\n",
       "        vertical-align: top;\n",
       "    }\n",
       "\n",
       "    .dataframe thead th {\n",
       "        text-align: right;\n",
       "    }\n",
       "</style>\n",
       "<table border=\"1\" class=\"dataframe\">\n",
       "  <thead>\n",
       "    <tr style=\"text-align: right;\">\n",
       "      <th></th>\n",
       "      <th>age</th>\n",
       "      <th>experience</th>\n",
       "      <th>count</th>\n",
       "      <th>mean</th>\n",
       "    </tr>\n",
       "  </thead>\n",
       "  <tbody>\n",
       "    <tr>\n",
       "      <th>0</th>\n",
       "      <td>19.0</td>\n",
       "      <td>0.0</td>\n",
       "      <td>7</td>\n",
       "      <td>15889.571429</td>\n",
       "    </tr>\n",
       "    <tr>\n",
       "      <th>1</th>\n",
       "      <td>19.0</td>\n",
       "      <td>2.0</td>\n",
       "      <td>3</td>\n",
       "      <td>16322.000000</td>\n",
       "    </tr>\n",
       "    <tr>\n",
       "      <th>3</th>\n",
       "      <td>22.0</td>\n",
       "      <td>0.0</td>\n",
       "      <td>10</td>\n",
       "      <td>15376.000000</td>\n",
       "    </tr>\n",
       "    <tr>\n",
       "      <th>4</th>\n",
       "      <td>22.0</td>\n",
       "      <td>1.0</td>\n",
       "      <td>8</td>\n",
       "      <td>18247.500000</td>\n",
       "    </tr>\n",
       "    <tr>\n",
       "      <th>5</th>\n",
       "      <td>22.0</td>\n",
       "      <td>2.0</td>\n",
       "      <td>6</td>\n",
       "      <td>25008.333333</td>\n",
       "    </tr>\n",
       "    <tr>\n",
       "      <th>9</th>\n",
       "      <td>25.0</td>\n",
       "      <td>0.0</td>\n",
       "      <td>6</td>\n",
       "      <td>20833.333333</td>\n",
       "    </tr>\n",
       "    <tr>\n",
       "      <th>10</th>\n",
       "      <td>25.0</td>\n",
       "      <td>1.0</td>\n",
       "      <td>7</td>\n",
       "      <td>22142.857143</td>\n",
       "    </tr>\n",
       "    <tr>\n",
       "      <th>11</th>\n",
       "      <td>25.0</td>\n",
       "      <td>2.0</td>\n",
       "      <td>14</td>\n",
       "      <td>26948.385714</td>\n",
       "    </tr>\n",
       "    <tr>\n",
       "      <th>18</th>\n",
       "      <td>28.5</td>\n",
       "      <td>0.0</td>\n",
       "      <td>4</td>\n",
       "      <td>19564.500000</td>\n",
       "    </tr>\n",
       "    <tr>\n",
       "      <th>19</th>\n",
       "      <td>28.5</td>\n",
       "      <td>1.0</td>\n",
       "      <td>5</td>\n",
       "      <td>21300.000000</td>\n",
       "    </tr>\n",
       "    <tr>\n",
       "      <th>20</th>\n",
       "      <td>28.5</td>\n",
       "      <td>2.0</td>\n",
       "      <td>10</td>\n",
       "      <td>26710.000000</td>\n",
       "    </tr>\n",
       "    <tr>\n",
       "      <th>28</th>\n",
       "      <td>32.0</td>\n",
       "      <td>0.0</td>\n",
       "      <td>1</td>\n",
       "      <td>27000.000000</td>\n",
       "    </tr>\n",
       "    <tr>\n",
       "      <th>29</th>\n",
       "      <td>32.0</td>\n",
       "      <td>1.0</td>\n",
       "      <td>1</td>\n",
       "      <td>21000.000000</td>\n",
       "    </tr>\n",
       "    <tr>\n",
       "      <th>30</th>\n",
       "      <td>32.0</td>\n",
       "      <td>2.0</td>\n",
       "      <td>2</td>\n",
       "      <td>15000.000000</td>\n",
       "    </tr>\n",
       "    <tr>\n",
       "      <th>38</th>\n",
       "      <td>35.5</td>\n",
       "      <td>0.0</td>\n",
       "      <td>1</td>\n",
       "      <td>8000.000000</td>\n",
       "    </tr>\n",
       "    <tr>\n",
       "      <th>39</th>\n",
       "      <td>35.5</td>\n",
       "      <td>2.0</td>\n",
       "      <td>2</td>\n",
       "      <td>26850.000000</td>\n",
       "    </tr>\n",
       "    <tr>\n",
       "      <th>47</th>\n",
       "      <td>38.5</td>\n",
       "      <td>1.0</td>\n",
       "      <td>1</td>\n",
       "      <td>31000.000000</td>\n",
       "    </tr>\n",
       "  </tbody>\n",
       "</table>\n",
       "</div>"
      ],
      "text/plain": [
       "     age  experience  count          mean\n",
       "0   19.0         0.0      7  15889.571429\n",
       "1   19.0         2.0      3  16322.000000\n",
       "3   22.0         0.0     10  15376.000000\n",
       "4   22.0         1.0      8  18247.500000\n",
       "5   22.0         2.0      6  25008.333333\n",
       "9   25.0         0.0      6  20833.333333\n",
       "10  25.0         1.0      7  22142.857143\n",
       "11  25.0         2.0     14  26948.385714\n",
       "18  28.5         0.0      4  19564.500000\n",
       "19  28.5         1.0      5  21300.000000\n",
       "20  28.5         2.0     10  26710.000000\n",
       "28  32.0         0.0      1  27000.000000\n",
       "29  32.0         1.0      1  21000.000000\n",
       "30  32.0         2.0      2  15000.000000\n",
       "38  35.5         0.0      1   8000.000000\n",
       "39  35.5         2.0      2  26850.000000\n",
       "47  38.5         1.0      1  31000.000000"
      ]
     },
     "execution_count": 253,
     "metadata": {},
     "output_type": "execute_result"
    }
   ],
   "source": [
    "print(\"Datos Juniors Hombre\")\n",
    "get_table_for_exp(mnn_datapoints, 0, 3)"
   ]
  },
  {
   "cell_type": "code",
   "execution_count": 208,
   "metadata": {
    "scrolled": true
   },
   "outputs": [
    {
     "name": "stderr",
     "output_type": "stream",
     "text": [
      "/home/osinski/Projects/sueldos-argentina-2018.1/env/lib/python3.5/site-packages/ipykernel_launcher.py:11: UserWarning: Boolean Series key will be reindexed to match DataFrame index.\n",
      "  # This is added back by InteractiveShellApp.init_path()\n"
     ]
    },
    {
     "data": {
      "image/png": "[encoded data removed]",
      "text/plain": [
       "<Figure size 1080x720 with 1 Axes>"
      ]
     },
     "metadata": {},
     "output_type": "display_data"
    }
   ],
   "source": [
    "plot_by_exp(0,3)"
   ]
  },
  {
   "cell_type": "markdown",
   "metadata": {},
   "source": [
    "Si bien estos gráficos pecan de que la cantidad de mujeres en estos subgrupos es baja, podemos ver que las mujeres sin experiencia ganaron más que los hombres. Lo mismo con un año de experiencia. A los dos años de experiencia pareceria haber outliers en la edad más jóven pero luego la misma es igual.\n",
    "\n",
    "Es también intersante notar que no hay hombres con más de 32 años de edad que sean contratados sin experiencia."
   ]
  },
  {
   "cell_type": "code",
   "execution_count": 226,
   "metadata": {},
   "outputs": [
    {
     "name": "stdout",
     "output_type": "stream",
     "text": [
      "Semi-seniors hombre\n"
     ]
    },
    {
     "data": {
      "text/html": [
       "<div>\n",
       "<style scoped>\n",
       "    .dataframe tbody tr th:only-of-type {\n",
       "        vertical-align: middle;\n",
       "    }\n",
       "\n",
       "    .dataframe tbody tr th {\n",
       "        vertical-align: top;\n",
       "    }\n",
       "\n",
       "    .dataframe thead th {\n",
       "        text-align: right;\n",
       "    }\n",
       "</style>\n",
       "<table border=\"1\" class=\"dataframe\">\n",
       "  <thead>\n",
       "    <tr style=\"text-align: right;\">\n",
       "      <th></th>\n",
       "      <th>age</th>\n",
       "      <th>experience</th>\n",
       "      <th>count</th>\n",
       "      <th>mean</th>\n",
       "    </tr>\n",
       "  </thead>\n",
       "  <tbody>\n",
       "    <tr>\n",
       "      <th>2</th>\n",
       "      <td>19.0</td>\n",
       "      <td>3.0</td>\n",
       "      <td>1</td>\n",
       "      <td>25000.000000</td>\n",
       "    </tr>\n",
       "    <tr>\n",
       "      <th>6</th>\n",
       "      <td>22.0</td>\n",
       "      <td>3.0</td>\n",
       "      <td>10</td>\n",
       "      <td>30150.000000</td>\n",
       "    </tr>\n",
       "    <tr>\n",
       "      <th>7</th>\n",
       "      <td>22.0</td>\n",
       "      <td>4.0</td>\n",
       "      <td>4</td>\n",
       "      <td>40750.000000</td>\n",
       "    </tr>\n",
       "    <tr>\n",
       "      <th>8</th>\n",
       "      <td>22.0</td>\n",
       "      <td>5.0</td>\n",
       "      <td>3</td>\n",
       "      <td>38393.333333</td>\n",
       "    </tr>\n",
       "    <tr>\n",
       "      <th>12</th>\n",
       "      <td>25.0</td>\n",
       "      <td>3.0</td>\n",
       "      <td>20</td>\n",
       "      <td>34960.000000</td>\n",
       "    </tr>\n",
       "    <tr>\n",
       "      <th>13</th>\n",
       "      <td>25.0</td>\n",
       "      <td>4.0</td>\n",
       "      <td>22</td>\n",
       "      <td>40445.454545</td>\n",
       "    </tr>\n",
       "    <tr>\n",
       "      <th>14</th>\n",
       "      <td>25.0</td>\n",
       "      <td>5.0</td>\n",
       "      <td>15</td>\n",
       "      <td>40600.000000</td>\n",
       "    </tr>\n",
       "    <tr>\n",
       "      <th>21</th>\n",
       "      <td>28.5</td>\n",
       "      <td>3.0</td>\n",
       "      <td>18</td>\n",
       "      <td>31398.944444</td>\n",
       "    </tr>\n",
       "    <tr>\n",
       "      <th>22</th>\n",
       "      <td>28.5</td>\n",
       "      <td>4.0</td>\n",
       "      <td>16</td>\n",
       "      <td>37946.875000</td>\n",
       "    </tr>\n",
       "    <tr>\n",
       "      <th>23</th>\n",
       "      <td>28.5</td>\n",
       "      <td>5.0</td>\n",
       "      <td>10</td>\n",
       "      <td>42460.000000</td>\n",
       "    </tr>\n",
       "    <tr>\n",
       "      <th>31</th>\n",
       "      <td>32.0</td>\n",
       "      <td>3.0</td>\n",
       "      <td>3</td>\n",
       "      <td>43600.000000</td>\n",
       "    </tr>\n",
       "    <tr>\n",
       "      <th>32</th>\n",
       "      <td>32.0</td>\n",
       "      <td>4.0</td>\n",
       "      <td>8</td>\n",
       "      <td>38075.000000</td>\n",
       "    </tr>\n",
       "    <tr>\n",
       "      <th>33</th>\n",
       "      <td>32.0</td>\n",
       "      <td>5.0</td>\n",
       "      <td>11</td>\n",
       "      <td>37093.636364</td>\n",
       "    </tr>\n",
       "    <tr>\n",
       "      <th>40</th>\n",
       "      <td>35.5</td>\n",
       "      <td>3.0</td>\n",
       "      <td>3</td>\n",
       "      <td>32923.333333</td>\n",
       "    </tr>\n",
       "    <tr>\n",
       "      <th>41</th>\n",
       "      <td>35.5</td>\n",
       "      <td>4.0</td>\n",
       "      <td>1</td>\n",
       "      <td>34000.000000</td>\n",
       "    </tr>\n",
       "    <tr>\n",
       "      <th>42</th>\n",
       "      <td>35.5</td>\n",
       "      <td>5.0</td>\n",
       "      <td>2</td>\n",
       "      <td>51000.000000</td>\n",
       "    </tr>\n",
       "    <tr>\n",
       "      <th>48</th>\n",
       "      <td>38.5</td>\n",
       "      <td>3.0</td>\n",
       "      <td>1</td>\n",
       "      <td>35000.000000</td>\n",
       "    </tr>\n",
       "    <tr>\n",
       "      <th>49</th>\n",
       "      <td>38.5</td>\n",
       "      <td>4.0</td>\n",
       "      <td>1</td>\n",
       "      <td>23000.000000</td>\n",
       "    </tr>\n",
       "    <tr>\n",
       "      <th>50</th>\n",
       "      <td>38.5</td>\n",
       "      <td>5.0</td>\n",
       "      <td>1</td>\n",
       "      <td>42000.000000</td>\n",
       "    </tr>\n",
       "    <tr>\n",
       "      <th>53</th>\n",
       "      <td>43.0</td>\n",
       "      <td>3.0</td>\n",
       "      <td>1</td>\n",
       "      <td>23000.000000</td>\n",
       "    </tr>\n",
       "  </tbody>\n",
       "</table>\n",
       "</div>"
      ],
      "text/plain": [
       "     age  experience  count          mean\n",
       "2   19.0         3.0      1  25000.000000\n",
       "6   22.0         3.0     10  30150.000000\n",
       "7   22.0         4.0      4  40750.000000\n",
       "8   22.0         5.0      3  38393.333333\n",
       "12  25.0         3.0     20  34960.000000\n",
       "13  25.0         4.0     22  40445.454545\n",
       "14  25.0         5.0     15  40600.000000\n",
       "21  28.5         3.0     18  31398.944444\n",
       "22  28.5         4.0     16  37946.875000\n",
       "23  28.5         5.0     10  42460.000000\n",
       "31  32.0         3.0      3  43600.000000\n",
       "32  32.0         4.0      8  38075.000000\n",
       "33  32.0         5.0     11  37093.636364\n",
       "40  35.5         3.0      3  32923.333333\n",
       "41  35.5         4.0      1  34000.000000\n",
       "42  35.5         5.0      2  51000.000000\n",
       "48  38.5         3.0      1  35000.000000\n",
       "49  38.5         4.0      1  23000.000000\n",
       "50  38.5         5.0      1  42000.000000\n",
       "53  43.0         3.0      1  23000.000000"
      ]
     },
     "execution_count": 226,
     "metadata": {},
     "output_type": "execute_result"
    }
   ],
   "source": [
    "print(\"Semi-seniors hombre\")\n",
    "get_table_for_exp(mnn_datapoints, 3, 6)"
   ]
  },
  {
   "cell_type": "code",
   "execution_count": 227,
   "metadata": {},
   "outputs": [
    {
     "name": "stdout",
     "output_type": "stream",
     "text": [
      "Semi-seniors mujer\n"
     ]
    },
    {
     "data": {
      "text/html": [
       "<div>\n",
       "<style scoped>\n",
       "    .dataframe tbody tr th:only-of-type {\n",
       "        vertical-align: middle;\n",
       "    }\n",
       "\n",
       "    .dataframe tbody tr th {\n",
       "        vertical-align: top;\n",
       "    }\n",
       "\n",
       "    .dataframe thead th {\n",
       "        text-align: right;\n",
       "    }\n",
       "</style>\n",
       "<table border=\"1\" class=\"dataframe\">\n",
       "  <thead>\n",
       "    <tr style=\"text-align: right;\">\n",
       "      <th></th>\n",
       "      <th>age</th>\n",
       "      <th>experience</th>\n",
       "      <th>count</th>\n",
       "      <th>mean</th>\n",
       "    </tr>\n",
       "  </thead>\n",
       "  <tbody>\n",
       "    <tr>\n",
       "      <th>3</th>\n",
       "      <td>22.0</td>\n",
       "      <td>4.0</td>\n",
       "      <td>1</td>\n",
       "      <td>27000.000000</td>\n",
       "    </tr>\n",
       "    <tr>\n",
       "      <th>6</th>\n",
       "      <td>25.0</td>\n",
       "      <td>3.0</td>\n",
       "      <td>4</td>\n",
       "      <td>26000.000000</td>\n",
       "    </tr>\n",
       "    <tr>\n",
       "      <th>7</th>\n",
       "      <td>25.0</td>\n",
       "      <td>4.0</td>\n",
       "      <td>2</td>\n",
       "      <td>30800.000000</td>\n",
       "    </tr>\n",
       "    <tr>\n",
       "      <th>8</th>\n",
       "      <td>25.0</td>\n",
       "      <td>5.0</td>\n",
       "      <td>1</td>\n",
       "      <td>51000.000000</td>\n",
       "    </tr>\n",
       "    <tr>\n",
       "      <th>11</th>\n",
       "      <td>28.5</td>\n",
       "      <td>3.0</td>\n",
       "      <td>6</td>\n",
       "      <td>24816.666667</td>\n",
       "    </tr>\n",
       "    <tr>\n",
       "      <th>12</th>\n",
       "      <td>28.5</td>\n",
       "      <td>4.0</td>\n",
       "      <td>3</td>\n",
       "      <td>27000.000000</td>\n",
       "    </tr>\n",
       "    <tr>\n",
       "      <th>13</th>\n",
       "      <td>28.5</td>\n",
       "      <td>5.0</td>\n",
       "      <td>3</td>\n",
       "      <td>32333.333333</td>\n",
       "    </tr>\n",
       "    <tr>\n",
       "      <th>19</th>\n",
       "      <td>32.0</td>\n",
       "      <td>3.0</td>\n",
       "      <td>1</td>\n",
       "      <td>30000.000000</td>\n",
       "    </tr>\n",
       "    <tr>\n",
       "      <th>20</th>\n",
       "      <td>32.0</td>\n",
       "      <td>4.0</td>\n",
       "      <td>1</td>\n",
       "      <td>25000.000000</td>\n",
       "    </tr>\n",
       "    <tr>\n",
       "      <th>21</th>\n",
       "      <td>32.0</td>\n",
       "      <td>5.0</td>\n",
       "      <td>1</td>\n",
       "      <td>28000.000000</td>\n",
       "    </tr>\n",
       "    <tr>\n",
       "      <th>23</th>\n",
       "      <td>35.5</td>\n",
       "      <td>5.0</td>\n",
       "      <td>1</td>\n",
       "      <td>33000.000000</td>\n",
       "    </tr>\n",
       "    <tr>\n",
       "      <th>27</th>\n",
       "      <td>38.5</td>\n",
       "      <td>5.0</td>\n",
       "      <td>1</td>\n",
       "      <td>40000.000000</td>\n",
       "    </tr>\n",
       "  </tbody>\n",
       "</table>\n",
       "</div>"
      ],
      "text/plain": [
       "     age  experience  count          mean\n",
       "3   22.0         4.0      1  27000.000000\n",
       "6   25.0         3.0      4  26000.000000\n",
       "7   25.0         4.0      2  30800.000000\n",
       "8   25.0         5.0      1  51000.000000\n",
       "11  28.5         3.0      6  24816.666667\n",
       "12  28.5         4.0      3  27000.000000\n",
       "13  28.5         5.0      3  32333.333333\n",
       "19  32.0         3.0      1  30000.000000\n",
       "20  32.0         4.0      1  25000.000000\n",
       "21  32.0         5.0      1  28000.000000\n",
       "23  35.5         5.0      1  33000.000000\n",
       "27  38.5         5.0      1  40000.000000"
      ]
     },
     "execution_count": 227,
     "metadata": {},
     "output_type": "execute_result"
    }
   ],
   "source": [
    "print(\"Semi-seniors mujer\")\n",
    "get_table_for_exp(wnn_datapoints, 3, 6)"
   ]
  },
  {
   "cell_type": "code",
   "execution_count": 209,
   "metadata": {
    "scrolled": true
   },
   "outputs": [
    {
     "name": "stderr",
     "output_type": "stream",
     "text": [
      "/home/osinski/Projects/sueldos-argentina-2018.1/env/lib/python3.5/site-packages/ipykernel_launcher.py:11: UserWarning: Boolean Series key will be reindexed to match DataFrame index.\n",
      "  # This is added back by InteractiveShellApp.init_path()\n"
     ]
    },
    {
     "data": {
      "image/png": "[encoded data removed]",
      "text/plain": [
       "<Figure size 1080x720 with 1 Axes>"
      ]
     },
     "metadata": {},
     "output_type": "display_data"
    }
   ],
   "source": [
    "plot_by_exp(3,6)"
   ]
  },
  {
   "cell_type": "markdown",
   "metadata": {},
   "source": [
    "Cuando empezamos a ver gente más semi-senior y senior, el patron sigue siendo similar: igual paga a los 3 años, levemente menos para los 4 años donde se puede comparar directamente entre hombre y mujer, idem 5 años. Recordemos que la cantidad de mujeres involucradas para cada datos es muy baja, por lo que el valor específico para cada una dificilmente establece un patrón claro."
   ]
  },
  {
   "cell_type": "code",
   "execution_count": 230,
   "metadata": {},
   "outputs": [
    {
     "name": "stdout",
     "output_type": "stream",
     "text": [
      "Seniors hombre\n"
     ]
    },
    {
     "data": {
      "text/html": [
       "<div>\n",
       "<style scoped>\n",
       "    .dataframe tbody tr th:only-of-type {\n",
       "        vertical-align: middle;\n",
       "    }\n",
       "\n",
       "    .dataframe tbody tr th {\n",
       "        vertical-align: top;\n",
       "    }\n",
       "\n",
       "    .dataframe thead th {\n",
       "        text-align: right;\n",
       "    }\n",
       "</style>\n",
       "<table border=\"1\" class=\"dataframe\">\n",
       "  <thead>\n",
       "    <tr style=\"text-align: right;\">\n",
       "      <th></th>\n",
       "      <th>age</th>\n",
       "      <th>experience</th>\n",
       "      <th>count</th>\n",
       "      <th>mean</th>\n",
       "    </tr>\n",
       "  </thead>\n",
       "  <tbody>\n",
       "    <tr>\n",
       "      <th>15</th>\n",
       "      <td>25.0</td>\n",
       "      <td>6.0</td>\n",
       "      <td>5</td>\n",
       "      <td>42200.000000</td>\n",
       "    </tr>\n",
       "    <tr>\n",
       "      <th>16</th>\n",
       "      <td>25.0</td>\n",
       "      <td>7.0</td>\n",
       "      <td>1</td>\n",
       "      <td>40000.000000</td>\n",
       "    </tr>\n",
       "    <tr>\n",
       "      <th>17</th>\n",
       "      <td>25.0</td>\n",
       "      <td>8.0</td>\n",
       "      <td>2</td>\n",
       "      <td>57500.000000</td>\n",
       "    </tr>\n",
       "    <tr>\n",
       "      <th>24</th>\n",
       "      <td>28.5</td>\n",
       "      <td>6.0</td>\n",
       "      <td>13</td>\n",
       "      <td>37512.923077</td>\n",
       "    </tr>\n",
       "    <tr>\n",
       "      <th>25</th>\n",
       "      <td>28.5</td>\n",
       "      <td>7.0</td>\n",
       "      <td>12</td>\n",
       "      <td>41398.333333</td>\n",
       "    </tr>\n",
       "    <tr>\n",
       "      <th>26</th>\n",
       "      <td>28.5</td>\n",
       "      <td>8.0</td>\n",
       "      <td>8</td>\n",
       "      <td>41187.500000</td>\n",
       "    </tr>\n",
       "    <tr>\n",
       "      <th>27</th>\n",
       "      <td>28.5</td>\n",
       "      <td>9.0</td>\n",
       "      <td>6</td>\n",
       "      <td>49666.666667</td>\n",
       "    </tr>\n",
       "    <tr>\n",
       "      <th>34</th>\n",
       "      <td>32.0</td>\n",
       "      <td>6.0</td>\n",
       "      <td>6</td>\n",
       "      <td>40870.000000</td>\n",
       "    </tr>\n",
       "    <tr>\n",
       "      <th>35</th>\n",
       "      <td>32.0</td>\n",
       "      <td>7.0</td>\n",
       "      <td>7</td>\n",
       "      <td>42478.571429</td>\n",
       "    </tr>\n",
       "    <tr>\n",
       "      <th>36</th>\n",
       "      <td>32.0</td>\n",
       "      <td>8.0</td>\n",
       "      <td>11</td>\n",
       "      <td>41018.181818</td>\n",
       "    </tr>\n",
       "    <tr>\n",
       "      <th>37</th>\n",
       "      <td>32.0</td>\n",
       "      <td>9.0</td>\n",
       "      <td>3</td>\n",
       "      <td>46300.000000</td>\n",
       "    </tr>\n",
       "    <tr>\n",
       "      <th>43</th>\n",
       "      <td>35.5</td>\n",
       "      <td>6.0</td>\n",
       "      <td>2</td>\n",
       "      <td>33500.000000</td>\n",
       "    </tr>\n",
       "    <tr>\n",
       "      <th>44</th>\n",
       "      <td>35.5</td>\n",
       "      <td>7.0</td>\n",
       "      <td>3</td>\n",
       "      <td>32333.333333</td>\n",
       "    </tr>\n",
       "    <tr>\n",
       "      <th>45</th>\n",
       "      <td>35.5</td>\n",
       "      <td>8.0</td>\n",
       "      <td>1</td>\n",
       "      <td>30000.000000</td>\n",
       "    </tr>\n",
       "    <tr>\n",
       "      <th>46</th>\n",
       "      <td>35.5</td>\n",
       "      <td>9.0</td>\n",
       "      <td>8</td>\n",
       "      <td>43375.000000</td>\n",
       "    </tr>\n",
       "    <tr>\n",
       "      <th>51</th>\n",
       "      <td>38.5</td>\n",
       "      <td>6.0</td>\n",
       "      <td>2</td>\n",
       "      <td>39500.000000</td>\n",
       "    </tr>\n",
       "    <tr>\n",
       "      <th>52</th>\n",
       "      <td>38.5</td>\n",
       "      <td>9.0</td>\n",
       "      <td>4</td>\n",
       "      <td>41825.000000</td>\n",
       "    </tr>\n",
       "    <tr>\n",
       "      <th>54</th>\n",
       "      <td>47.5</td>\n",
       "      <td>9.0</td>\n",
       "      <td>1</td>\n",
       "      <td>46805.000000</td>\n",
       "    </tr>\n",
       "    <tr>\n",
       "      <th>55</th>\n",
       "      <td>65.0</td>\n",
       "      <td>8.0</td>\n",
       "      <td>1</td>\n",
       "      <td>42000.000000</td>\n",
       "    </tr>\n",
       "  </tbody>\n",
       "</table>\n",
       "</div>"
      ],
      "text/plain": [
       "     age  experience  count          mean\n",
       "15  25.0         6.0      5  42200.000000\n",
       "16  25.0         7.0      1  40000.000000\n",
       "17  25.0         8.0      2  57500.000000\n",
       "24  28.5         6.0     13  37512.923077\n",
       "25  28.5         7.0     12  41398.333333\n",
       "26  28.5         8.0      8  41187.500000\n",
       "27  28.5         9.0      6  49666.666667\n",
       "34  32.0         6.0      6  40870.000000\n",
       "35  32.0         7.0      7  42478.571429\n",
       "36  32.0         8.0     11  41018.181818\n",
       "37  32.0         9.0      3  46300.000000\n",
       "43  35.5         6.0      2  33500.000000\n",
       "44  35.5         7.0      3  32333.333333\n",
       "45  35.5         8.0      1  30000.000000\n",
       "46  35.5         9.0      8  43375.000000\n",
       "51  38.5         6.0      2  39500.000000\n",
       "52  38.5         9.0      4  41825.000000\n",
       "54  47.5         9.0      1  46805.000000\n",
       "55  65.0         8.0      1  42000.000000"
      ]
     },
     "execution_count": 230,
     "metadata": {},
     "output_type": "execute_result"
    }
   ],
   "source": [
    "print(\"Seniors hombre\")\n",
    "get_table_for_exp(mnn_datapoints, 6, 10)\n"
   ]
  },
  {
   "cell_type": "code",
   "execution_count": 231,
   "metadata": {},
   "outputs": [
    {
     "name": "stdout",
     "output_type": "stream",
     "text": [
      "Seniors mujer\n"
     ]
    },
    {
     "data": {
      "text/html": [
       "<div>\n",
       "<style scoped>\n",
       "    .dataframe tbody tr th:only-of-type {\n",
       "        vertical-align: middle;\n",
       "    }\n",
       "\n",
       "    .dataframe tbody tr th {\n",
       "        vertical-align: top;\n",
       "    }\n",
       "\n",
       "    .dataframe thead th {\n",
       "        text-align: right;\n",
       "    }\n",
       "</style>\n",
       "<table border=\"1\" class=\"dataframe\">\n",
       "  <thead>\n",
       "    <tr style=\"text-align: right;\">\n",
       "      <th></th>\n",
       "      <th>age</th>\n",
       "      <th>experience</th>\n",
       "      <th>count</th>\n",
       "      <th>mean</th>\n",
       "    </tr>\n",
       "  </thead>\n",
       "  <tbody>\n",
       "    <tr>\n",
       "      <th>9</th>\n",
       "      <td>25.0</td>\n",
       "      <td>6.0</td>\n",
       "      <td>1</td>\n",
       "      <td>58000.0</td>\n",
       "    </tr>\n",
       "    <tr>\n",
       "      <th>14</th>\n",
       "      <td>28.5</td>\n",
       "      <td>6.0</td>\n",
       "      <td>1</td>\n",
       "      <td>33000.0</td>\n",
       "    </tr>\n",
       "    <tr>\n",
       "      <th>15</th>\n",
       "      <td>28.5</td>\n",
       "      <td>7.0</td>\n",
       "      <td>4</td>\n",
       "      <td>34500.0</td>\n",
       "    </tr>\n",
       "    <tr>\n",
       "      <th>16</th>\n",
       "      <td>28.5</td>\n",
       "      <td>9.0</td>\n",
       "      <td>1</td>\n",
       "      <td>30000.0</td>\n",
       "    </tr>\n",
       "    <tr>\n",
       "      <th>22</th>\n",
       "      <td>32.0</td>\n",
       "      <td>7.0</td>\n",
       "      <td>1</td>\n",
       "      <td>45000.0</td>\n",
       "    </tr>\n",
       "    <tr>\n",
       "      <th>24</th>\n",
       "      <td>35.5</td>\n",
       "      <td>6.0</td>\n",
       "      <td>1</td>\n",
       "      <td>36000.0</td>\n",
       "    </tr>\n",
       "    <tr>\n",
       "      <th>25</th>\n",
       "      <td>35.5</td>\n",
       "      <td>7.0</td>\n",
       "      <td>1</td>\n",
       "      <td>44700.0</td>\n",
       "    </tr>\n",
       "    <tr>\n",
       "      <th>26</th>\n",
       "      <td>35.5</td>\n",
       "      <td>9.0</td>\n",
       "      <td>1</td>\n",
       "      <td>36000.0</td>\n",
       "    </tr>\n",
       "    <tr>\n",
       "      <th>28</th>\n",
       "      <td>38.5</td>\n",
       "      <td>9.0</td>\n",
       "      <td>2</td>\n",
       "      <td>32394.5</td>\n",
       "    </tr>\n",
       "  </tbody>\n",
       "</table>\n",
       "</div>"
      ],
      "text/plain": [
       "     age  experience  count     mean\n",
       "9   25.0         6.0      1  58000.0\n",
       "14  28.5         6.0      1  33000.0\n",
       "15  28.5         7.0      4  34500.0\n",
       "16  28.5         9.0      1  30000.0\n",
       "22  32.0         7.0      1  45000.0\n",
       "24  35.5         6.0      1  36000.0\n",
       "25  35.5         7.0      1  44700.0\n",
       "26  35.5         9.0      1  36000.0\n",
       "28  38.5         9.0      2  32394.5"
      ]
     },
     "execution_count": 231,
     "metadata": {},
     "output_type": "execute_result"
    }
   ],
   "source": [
    "print(\"Seniors mujer\")\n",
    "get_table_for_exp(wnn_datapoints, 6, 10)"
   ]
  },
  {
   "cell_type": "code",
   "execution_count": 210,
   "metadata": {
    "scrolled": true
   },
   "outputs": [
    {
     "name": "stderr",
     "output_type": "stream",
     "text": [
      "/home/osinski/Projects/sueldos-argentina-2018.1/env/lib/python3.5/site-packages/ipykernel_launcher.py:11: UserWarning: Boolean Series key will be reindexed to match DataFrame index.\n",
      "  # This is added back by InteractiveShellApp.init_path()\n"
     ]
    },
    {
     "data": {
      "image/png": "[encoded data removed]",
      "text/plain": [
       "<Figure size 1080x720 with 1 Axes>"
      ]
     },
     "metadata": {},
     "output_type": "display_data"
    }
   ],
   "source": [
    "plot_by_exp(6,10)"
   ]
  },
  {
   "cell_type": "markdown",
   "metadata": {},
   "source": [
    "Vemos, por último, a los desarrolladores con más experiencia.\n",
    "\n",
    "Pareceria haber outliers sustanciales en el rango de edad más joven a los 6 años de exp, aunque donde la misma es comparable con mujeres vemos que las mujeres están en condiciones similares. No obstante, en los 7 años de experiencia los datos tiran una brecha sustancial de $5K entre los 28 y 36 años de edad.\n",
    "\n",
    "El problema que tenemos con esta franja de seniority es que hay muy pocas mujeres, por lo tanta para muchos valores de edad y experiencia tal vez puede haber solo una, o ninguna, mujer. Dada la varianza de los datos, que a la unica mujer de un punto le paguen más o menos altera los resultados sustancialmente pero no provee certeza estadística. Por ejemplo, la única mujer en el rango de 32 años con 7 años de experiencia gana \\$45K, \\$3K más que la media equivalente masculina. Pero también, de los 28,5 años de edad y 7 de experiencia, hay unos \\$7K de diferencia."
   ]
  },
  {
   "cell_type": "markdown",
   "metadata": {},
   "source": [
    "Conclusiones\n",
    "--------------\n",
    "\n",
    "Si bien este es un análisis bastante preliminar en el cual varios datos tuvieron que ser simplificados, podemos resaltar:\n",
    "\n",
    "* Solo el 12% de quienes respondieron esta encuesta son mujeres. Eso nos trae problemas porque tenemos relativamente muy poca información, y si queremos hilar fino, la misma no nos da certeza estadística para generalizar los resultados. No obstante, la cifra es baja, y muestra que las mujeres en general están mal representadas en la industria.\n",
    "* La población masculina, en promedio, es levente más vieja, gana más, y tiene una mayor proporción de ingresos en los extremos la distribución. Lo último es consistente con el analisis de sueldos y rendimiento entre hombres y mujeres en muchos otros campos.\n",
    "* Hay una población importante de varones que ganan muchísimo, y tiran el promedio de la distribución masculina hacia arriba. Este grupo por encima de los $70K puede no necesariamente ser representativo de la población de programadores de Argentina, ya que es altamente probable que muchos esten trabajando como independientes para empresas del exterior (por evidencia anecdótica propia y testimonios varios), donde se puede facturar mucho más que el mercado local.\n",
    "* Incluso descartando los sueldos muy altos, no deja de haber más hombres con más experiencia, que son una proporción mayor del total de hombres.\n",
    "* Pero cuando comparamos igual edad y experiencia entre hombres y mujeres, no parece haber una diferencia significativa\n",
    "\n",
    "Dado los datos que tenemos, podemos ver que la evidencia presentada apoya la hipótesis nula de que, a igual trabajo, edad y experiencia, la paga es la misma.\n",
    "\n",
    "Posibles explicaciones y comentarios adicionales\n",
    "================================================\n",
    "\n",
    "Entonces, si bien podemos decir que una mujer en condiciones similares a las de un hombre muy probablemene gane lo mismo, vale la pena preguntarnos por qué hay más hombres que estan en condiciones de tener mayor edad, mayor experiencia, o que aparecen en el extremo mayor de la curva salarial.\n",
    "\n",
    "Una posibilidad es que el campo de tecnologia ha estado muy poco representado por mujeres y es solo en los ultimos años que han habido esfuerzos para revertir la situación. Las carreras de computación han aumentado mucho en visibilidad en la ultima década, y eso podria explicar que tenemos una nueva generación de mujeres que están entrando a la misma, mientras que en el pasado hubieron proporcionalmente menos mujeres y por ende la población actual de mujeres mayores es menor.\n",
    "\n",
    "Otra posible explicación es que cuando las mujeres llegan a la edad de maternidad, muchas eligen dejar el trabajo, lo que distorciona la distribución de edad y experiencia hacia abajo, y como los sueldos más grandes son solo accesibles a quienes tienen mayor seniority, esto lleva a bajar el promedio salarial femenino sustancialmente.\n",
    "\n",
    "Lamentablemente, como la encuesta agrupa a todas las personas con más de 10 años de experiencia en un solo grupo, no es posible determinar si la tendencia de relativamente igual paga a igual trabajo se mantiene a mayores edades. Existe un cuerpo de evidencia científica considerable que dice que las mujeres suelen negociar sueldos menos agresivamente que los hombres. Seria razonable entonces pensar que, como a mayor experiencia los sueldos son más grandes, diferencias proporcionalmente chicas en cómo se negocian estos sueldos pueden tener un impacto más alto.\n",
    "\n",
    "Este estudio tampoco consideró en detalle el impacto de las posiciones gerenciales y si las mujeres ascienden a las mismas. Por los mismos motivos que el seniority y la negociación, sería de sospechar que los mismos efectos implican menos mujeres en posiciones de liderazgo.\n",
    "\n",
    "Como es muy dificil hacer una encuesta para mujeres que abandonaron la carrera, quedan muchas preguntas abiertas. Si seguimos las tendencias mundiales, podemos observar que si bien la profesión es bastante igualitaria en que el mismo trabajo es remunerado similarmente, distintos factores que penalizan (y favorecen que el hombre sea el que sigue trabaando en la familia) la maternidad impiden su avance en la carrera. \n",
    "\n"
   ]
  },
  {
   "cell_type": "code",
   "execution_count": null,
   "metadata": {},
   "outputs": [],
   "source": []
  }
 ],
 "metadata": {
  "kernelspec": {
   "display_name": "Python 3",
   "language": "python",
   "name": "python3"
  },
  "language_info": {
   "codemirror_mode": {
    "name": "ipython",
    "version": 3
   },
   "file_extension": ".py",
   "mimetype": "text/x-python",
   "name": "python",
   "nbconvert_exporter": "python",
   "pygments_lexer": "ipython3",
   "version": "3.5.2"
  }
 },
 "nbformat": 4,
 "nbformat_minor": 2
}
